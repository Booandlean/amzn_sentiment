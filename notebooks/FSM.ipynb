{
 "cells": [
  {
   "cell_type": "code",
   "execution_count": 9,
   "metadata": {},
   "outputs": [],
   "source": [
    "import pandas as pd\n",
    "import numpy as np"
   ]
  },
  {
   "cell_type": "code",
   "execution_count": 10,
   "metadata": {},
   "outputs": [
    {
     "name": "stderr",
     "output_type": "stream",
     "text": [
      "/Users/adamroth/opt/anaconda3/envs/learn-env/lib/python3.6/site-packages/IPython/core/interactiveshell.py:3058: DtypeWarning: Columns (1,10) have mixed types. Specify dtype option on import or set low_memory=False.\n",
      "  interactivity=interactivity, compiler=compiler, result=result)\n",
      "/Users/adamroth/opt/anaconda3/envs/learn-env/lib/python3.6/site-packages/ipykernel_launcher.py:5: SettingWithCopyWarning: \n",
      "A value is trying to be set on a copy of a slice from a DataFrame\n",
      "\n",
      "See the caveats in the documentation: http://pandas.pydata.org/pandas-docs/stable/user_guide/indexing.html#returning-a-view-versus-a-copy\n",
      "  \"\"\"\n"
     ]
    }
   ],
   "source": [
    "raw_df = pd.read_csv('../data/archive/1429_1.csv')\n",
    "    \n",
    "df = raw_df[['asins', 'reviews.rating', 'reviews.doRecommend', 'reviews.title', 'reviews.text']]\n",
    "    \n",
    "df.dropna(inplace=True)"
   ]
  },
  {
   "cell_type": "code",
   "execution_count": 12,
   "metadata": {},
   "outputs": [
    {
     "data": {
      "text/html": [
       "<div>\n",
       "<style scoped>\n",
       "    .dataframe tbody tr th:only-of-type {\n",
       "        vertical-align: middle;\n",
       "    }\n",
       "\n",
       "    .dataframe tbody tr th {\n",
       "        vertical-align: top;\n",
       "    }\n",
       "\n",
       "    .dataframe thead th {\n",
       "        text-align: right;\n",
       "    }\n",
       "</style>\n",
       "<table border=\"1\" class=\"dataframe\">\n",
       "  <thead>\n",
       "    <tr style=\"text-align: right;\">\n",
       "      <th></th>\n",
       "      <th>asins</th>\n",
       "      <th>reviews.rating</th>\n",
       "      <th>reviews.doRecommend</th>\n",
       "      <th>reviews.title</th>\n",
       "      <th>reviews.text</th>\n",
       "    </tr>\n",
       "  </thead>\n",
       "  <tbody>\n",
       "    <tr>\n",
       "      <td>24331</td>\n",
       "      <td>B00L9EPT8O,B01E6AO69U</td>\n",
       "      <td>4.0</td>\n",
       "      <td>True</td>\n",
       "      <td>Alexa good start to home automation and companion</td>\n",
       "      <td>Alexa is great. She plays music for me, tells ...</td>\n",
       "    </tr>\n",
       "    <tr>\n",
       "      <td>19035</td>\n",
       "      <td>B00OQVZDJM</td>\n",
       "      <td>5.0</td>\n",
       "      <td>True</td>\n",
       "      <td>My first kindle</td>\n",
       "      <td>I purchased this product a few months ago and ...</td>\n",
       "    </tr>\n",
       "    <tr>\n",
       "      <td>31222</td>\n",
       "      <td>B00U3FPN4U</td>\n",
       "      <td>5.0</td>\n",
       "      <td>True</td>\n",
       "      <td>Easy to use</td>\n",
       "      <td>This was a big help in cutting the cable cord ...</td>\n",
       "    </tr>\n",
       "  </tbody>\n",
       "</table>\n",
       "</div>"
      ],
      "text/plain": [
       "                       asins  reviews.rating reviews.doRecommend  \\\n",
       "24331  B00L9EPT8O,B01E6AO69U             4.0                True   \n",
       "19035             B00OQVZDJM             5.0                True   \n",
       "31222             B00U3FPN4U             5.0                True   \n",
       "\n",
       "                                           reviews.title  \\\n",
       "24331  Alexa good start to home automation and companion   \n",
       "19035                                    My first kindle   \n",
       "31222                                        Easy to use   \n",
       "\n",
       "                                            reviews.text  \n",
       "24331  Alexa is great. She plays music for me, tells ...  \n",
       "19035  I purchased this product a few months ago and ...  \n",
       "31222  This was a big help in cutting the cable cord ...  "
      ]
     },
     "execution_count": 12,
     "metadata": {},
     "output_type": "execute_result"
    }
   ],
   "source": [
    "df.sample(3)"
   ]
  },
  {
   "cell_type": "code",
   "execution_count": 15,
   "metadata": {},
   "outputs": [],
   "source": [
    "text = \"Idk what I want to do with this project, I'll make a model or two but I think I want to make this more of an analysis rather than a data science project\""
   ]
  },
  {
   "cell_type": "code",
   "execution_count": null,
   "metadata": {},
   "outputs": [],
   "source": []
  }
 ],
 "metadata": {
  "kernelspec": {
   "display_name": "learn-env",
   "language": "python",
   "name": "learn-env"
  },
  "language_info": {
   "codemirror_mode": {
    "name": "ipython",
    "version": 3
   },
   "file_extension": ".py",
   "mimetype": "text/x-python",
   "name": "python",
   "nbconvert_exporter": "python",
   "pygments_lexer": "ipython3",
   "version": "3.6.9"
  }
 },
 "nbformat": 4,
 "nbformat_minor": 4
}
